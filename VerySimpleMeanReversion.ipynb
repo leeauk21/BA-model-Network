{
  "nbformat": 4,
  "nbformat_minor": 0,
  "metadata": {
    "colab": {
      "name": "Task_1.ipynb",
      "provenance": [],
      "authorship_tag": "ABX9TyOxuZcMs4ImXp6CEvXz4+sY",
      "include_colab_link": true
    },
    "kernelspec": {
      "name": "python3",
      "display_name": "Python 3"
    }
  },
  "cells": [
    {
      "cell_type": "markdown",
      "metadata": {
        "id": "view-in-github",
        "colab_type": "text"
      },
      "source": [
        "<a href=\"https://colab.research.google.com/github/leeauk21/BA-model-Network/blob/master/VerySimpleMeanReversion.ipynb\" target=\"_parent\"><img src=\"https://colab.research.google.com/assets/colab-badge.svg\" alt=\"Open In Colab\"/></a>"
      ]
    },
    {
      "cell_type": "code",
      "metadata": {
        "id": "6pVlKLN12d-Q",
        "colab_type": "code",
        "colab": {}
      },
      "source": [
        "import requests\n",
        "import pandas as pd\n",
        "#your world trading api key\n",
        "key='your world trading api key'"
      ],
      "execution_count": null,
      "outputs": []
    },
    {
      "cell_type": "code",
      "metadata": {
        "id": "vpMYVpZzlKnI",
        "colab_type": "code",
        "colab": {}
      },
      "source": [
        "class MeanReversion():\n",
        "  def __init__(self,symbols: str,key: str,end: str):\n",
        "    self.params = {'access_key': key,'limit':1000,'sort':'ASC','date_to':end,'symbols':symbols}\n",
        "    api_result = requests.get('http://api.marketstack.com/v1/eod', self.params)\n",
        "    api_response = api_result.json()\n",
        "    self.df=pd.DataFrame(api_response['data'])\n",
        "    self.df=self.df.set_index('date')\n",
        "    #calculate 30MA\n",
        "    self.df['MA30']=self.df['close'].rolling(30).mean()\n",
        "    self.df['MA90']=self.df['close'].rolling(90).mean()\n",
        "    # drop other cols except close price\n",
        "    self.df=self.df[['close','MA30','MA90']]\n",
        "    self.df.fillna(0,inplace=True)\n",
        "  \n",
        "  def output(self):\n",
        "    return self.df\n",
        "  "
      ],
      "execution_count": null,
      "outputs": []
    },
    {
      "cell_type": "code",
      "metadata": {
        "id": "ilIhV3MQS8Bb",
        "colab_type": "code",
        "colab": {}
      },
      "source": [
        "# I am experiencing difficulties in merging this function with the class thus I am placing it outside the class\n",
        "def check_signals(df):\n",
        "  if df['MA30'] > df['MA90']:\n",
        "    df['buy_signal']=int(1)\n",
        "    df['sell_signal']=int(0)\n",
        "  elif df['MA30'] < df['MA90']:\n",
        "    df['sell_signal']=int(1)\n",
        "    df['buy_signal']=int(0)\n",
        "  else:\n",
        "    df['sell_signal']=int(0)\n",
        "    df['buy_signal']=int(0)\n",
        "  return df"
      ],
      "execution_count": null,
      "outputs": []
    },
    {
      "cell_type": "code",
      "metadata": {
        "id": "l3KfwaCVWDa5",
        "colab_type": "code",
        "colab": {}
      },
      "source": [
        "def notify(df):\n",
        "  df=df.reset_index()\n",
        "  dictionary=df.to_dict('index')\n",
        "  for i in dictionary.keys():\n",
        "    day=dictionary[i]\n",
        "    if day['buy_signal']==1.0:\n",
        "      print(day['date']+'     '+'buy')\n",
        "    elif day['sell_signal']==1.0:\n",
        "      print(day['date']+'     '+'sell')"
      ],
      "execution_count": null,
      "outputs": []
    },
    {
      "cell_type": "code",
      "metadata": {
        "id": "NNSvDVU1Id7P",
        "colab_type": "code",
        "colab": {}
      },
      "source": [
        "#test\n",
        "AAPL=MeanReversion('AAPL',key,'2020-09-03T00:00:00+0000')\n",
        "AAPL_df=AAPL.output()\n",
        "AAPL_df=AAPL_df.apply(check_signals,axis=1)\n",
        "notify(AAPL_df)"
      ],
      "execution_count": null,
      "outputs": []
    },
    {
      "cell_type": "code",
      "metadata": {
        "id": "fTwdhKuCYH18",
        "colab_type": "code",
        "colab": {}
      },
      "source": [
        ""
      ],
      "execution_count": null,
      "outputs": []
    }
  ]
}